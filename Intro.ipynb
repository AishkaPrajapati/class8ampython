{
 "cells": [
  {
   "cell_type": "code",
   "execution_count": 1,
   "id": "d1bbcea1",
   "metadata": {},
   "outputs": [],
   "source": [
    "#a=11 [Integer]\n",
    "#b=10.5 [float]\n",
    "#c=\"Hello World\" [string]\n",
    "#d=True [Boolean]\n",
    "\n",
    "#Printing multiple value Print(a,b,c,d)"
   ]
  },
  {
   "cell_type": "code",
   "execution_count": 2,
   "id": "e7634b04",
   "metadata": {},
   "outputs": [],
   "source": [
    "#Printing type of value: print(type(a))"
   ]
  },
  {
   "cell_type": "code",
   "execution_count": 3,
   "id": "1009fb3c",
   "metadata": {},
   "outputs": [],
   "source": [
    "#Arithmatic Operators: '+','-','*','/','**'-power, //-double divide{flow division: point bhanda pachadi ko value naline},\n",
    "                        #'%'-modulus{remainder}"
   ]
  },
  {
   "cell_type": "code",
   "execution_count": 4,
   "id": "b3c70b32",
   "metadata": {},
   "outputs": [],
   "source": [
    "# is used for commenting. it understands that the statement or value is not a part of compiler"
   ]
  },
  {
   "cell_type": "code",
   "execution_count": 5,
   "id": "bc537ad3",
   "metadata": {},
   "outputs": [
    {
     "name": "stdout",
     "output_type": "stream",
     "text": [
      "21\n"
     ]
    }
   ],
   "source": [
    "a=10\n",
    "b=11\n",
    "c=a+b\n",
    "print(c)"
   ]
  },
  {
   "cell_type": "code",
   "execution_count": 6,
   "id": "30ba078e",
   "metadata": {},
   "outputs": [],
   "source": [
    "#in the above compilation, '+' is an operator whereas a and b are operands. '=' is an assignment operator"
   ]
  },
  {
   "cell_type": "code",
   "execution_count": 7,
   "id": "c19ec87d",
   "metadata": {},
   "outputs": [],
   "source": [
    "#Ctrl+A= Select all"
   ]
  },
  {
   "cell_type": "code",
   "execution_count": 8,
   "id": "7ce1c76c",
   "metadata": {},
   "outputs": [],
   "source": [
    "#String\n",
    "#alpha-numeric character\n",
    "#single, double and triple quotted comma\n",
    "#s='Hello WOrld'\n",
    "#s=\"Hello World\"\n",
    "#s='''Hello World'''"
   ]
  },
  {
   "cell_type": "code",
   "execution_count": 9,
   "id": "94c61b6e",
   "metadata": {},
   "outputs": [
    {
     "name": "stdout",
     "output_type": "stream",
     "text": [
      "HelloWorld\n"
     ]
    }
   ],
   "source": [
    "a=\"Hello\"\n",
    "b=\"World\"\n",
    "c=a+b\n",
    "print(c)                             #The result is concatinated"
   ]
  },
  {
   "cell_type": "code",
   "execution_count": 10,
   "id": "5d36cd07",
   "metadata": {},
   "outputs": [
    {
     "name": "stdout",
     "output_type": "stream",
     "text": [
      "1112\n"
     ]
    }
   ],
   "source": [
    "a='11'\n",
    "b='12'\n",
    "c=a+b\n",
    "print(c)"
   ]
  },
  {
   "cell_type": "code",
   "execution_count": 11,
   "id": "b6f33133",
   "metadata": {},
   "outputs": [
    {
     "name": "stdout",
     "output_type": "stream",
     "text": [
      "1\n"
     ]
    }
   ],
   "source": [
    "a=True                             #True=1, false=0\n",
    "b=False\n",
    "c=a+b\n",
    "print(c)"
   ]
  },
  {
   "cell_type": "code",
   "execution_count": null,
   "id": "bdb3cc7d",
   "metadata": {},
   "outputs": [],
   "source": []
  }
 ],
 "metadata": {
  "kernelspec": {
   "display_name": "Python 3 (ipykernel)",
   "language": "python",
   "name": "python3"
  },
  "language_info": {
   "codemirror_mode": {
    "name": "ipython",
    "version": 3
   },
   "file_extension": ".py",
   "mimetype": "text/x-python",
   "name": "python",
   "nbconvert_exporter": "python",
   "pygments_lexer": "ipython3",
   "version": "3.9.12"
  }
 },
 "nbformat": 4,
 "nbformat_minor": 5
}
