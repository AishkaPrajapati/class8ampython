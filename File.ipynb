{
 "cells": [
  {
   "cell_type": "code",
   "execution_count": 1,
   "id": "ba24dee9",
   "metadata": {},
   "outputs": [],
   "source": [
    "# file = open('<file_path>','<mode>')\n",
    "# file.close()"
   ]
  },
  {
   "cell_type": "code",
   "execution_count": 2,
   "id": "a4d0987b",
   "metadata": {},
   "outputs": [],
   "source": [
    "# with open('file_name>','<mode>') as file:\n",
    "#     <operations>"
   ]
  },
  {
   "cell_type": "code",
   "execution_count": 3,
   "id": "9233ac77",
   "metadata": {},
   "outputs": [],
   "source": [
    "# mode\n",
    "# read -> 'r'\n",
    "# create -> 'x'\n",
    "# write -> 'w'\n",
    "# append -> 'a'"
   ]
  },
  {
   "cell_type": "code",
   "execution_count": 4,
   "id": "b1283f59",
   "metadata": {},
   "outputs": [],
   "source": [
    "try:\n",
    "    file=open('new_file.txt','x')\n",
    "    file.close()\n",
    "except:\n",
    "    print(\"The file is already created.\")"
   ]
  },
  {
   "cell_type": "code",
   "execution_count": 6,
   "id": "8251d887",
   "metadata": {},
   "outputs": [
    {
     "name": "stdout",
     "output_type": "stream",
     "text": [
      "Hello World\n",
      "Hello World\n",
      "Hello World\n",
      "Hello World\n",
      "Hello World\n",
      "Hello World\n",
      "Hello World\n",
      "Hello World\n",
      "<class 'str'>\n"
     ]
    }
   ],
   "source": [
    "#Read file\n",
    "file=open('new_file.txt','r')\n",
    "x=file.read()\n",
    "print(x)\n",
    "print(type(x))\n",
    "file.close()"
   ]
  },
  {
   "cell_type": "code",
   "execution_count": 7,
   "id": "4f92369d",
   "metadata": {},
   "outputs": [
    {
     "name": "stdout",
     "output_type": "stream",
     "text": [
      "Enter n= 2\n"
     ]
    },
    {
     "data": {
      "text/plain": [
       "'Hello World'"
      ]
     },
     "execution_count": 7,
     "metadata": {},
     "output_type": "execute_result"
    }
   ],
   "source": [
    "n=int(input(\"Enter n= \"))\n",
    "x.split('\\n')[n-1]"
   ]
  },
  {
   "cell_type": "code",
   "execution_count": 10,
   "id": "fb6eb6d7",
   "metadata": {
    "scrolled": true
   },
   "outputs": [
    {
     "ename": "ValueError",
     "evalue": "invalid mode: 'l'",
     "output_type": "error",
     "traceback": [
      "\u001b[1;31m---------------------------------------------------------------------------\u001b[0m",
      "\u001b[1;31mValueError\u001b[0m                                Traceback (most recent call last)",
      "Input \u001b[1;32mIn [10]\u001b[0m, in \u001b[0;36m<cell line: 1>\u001b[1;34m()\u001b[0m\n\u001b[1;32m----> 1\u001b[0m file\u001b[38;5;241m=\u001b[39m\u001b[38;5;28;43mopen\u001b[39;49m\u001b[43m(\u001b[49m\u001b[38;5;124;43m'\u001b[39;49m\u001b[38;5;124;43mdata.txt\u001b[39;49m\u001b[38;5;124;43m'\u001b[39;49m\u001b[43m,\u001b[49m\u001b[38;5;124;43m'\u001b[39;49m\u001b[38;5;124;43ml\u001b[39;49m\u001b[38;5;124;43m'\u001b[39;49m\u001b[43m)\u001b[49m\n\u001b[0;32m      2\u001b[0m file\u001b[38;5;241m.\u001b[39mclose()\n",
      "\u001b[1;31mValueError\u001b[0m: invalid mode: 'l'"
     ]
    }
   ],
   "source": [
    "\n"
   ]
  },
  {
   "cell_type": "code",
   "execution_count": 11,
   "id": "4a41afd6",
   "metadata": {},
   "outputs": [],
   "source": [
    "with open('data.txt','w') as file:\n",
    "    file.write('Hello World')"
   ]
  },
  {
   "cell_type": "code",
   "execution_count": 12,
   "id": "86457080",
   "metadata": {},
   "outputs": [
    {
     "name": "stdout",
     "output_type": "stream",
     "text": [
      "Enter n= 2\n",
      "Enter name= Amrit\n",
      "Enter age= 23\n",
      "Enter add= India\n",
      "Enter name= Paras\n",
      "Enter age= 20\n",
      "Enter add= Dharan\n"
     ]
    }
   ],
   "source": [
    "s=\"\"\n",
    "n=int(input(\"Enter n= \"))\n",
    "for i in range(n):\n",
    "    name=input(\"Enter name= \")\n",
    "    age=int(input(\"Enter age= \"))\n",
    "    add=input(\"Enter add= \")\n",
    "    s=s+f\"{name} {age} {add}\\n\"\n",
    "\n",
    "with open('data.txt','w')as file:\n",
    "    file.write(s)"
   ]
  },
  {
   "cell_type": "code",
   "execution_count": 13,
   "id": "7759d3e1",
   "metadata": {},
   "outputs": [
    {
     "name": "stdout",
     "output_type": "stream",
     "text": [
      "Enter n= 3\n",
      "Enter name= Apple\n",
      "Enter price= 200\n",
      "Enter quantity= 3\n",
      "Enter name= Mango\n",
      "Enter price= 500\n",
      "Enter quantity= 4\n",
      "Enter name= Litchi\n",
      "Enter price= 600\n",
      "Enter quantity= 2\n",
      "Apple 200 3 600\n",
      "Mango 500 4 2000\n",
      "Litchi 600 2 1200\n",
      "\n"
     ]
    }
   ],
   "source": [
    "s=str()\n",
    "n=int(input(\"Enter n= \"))\n",
    "for i in range(n):\n",
    "    name=input(\"Enter name= \")\n",
    "    price=int(input(\"Enter price= \"))\n",
    "    quantity=int(input(\"Enter quantity= \"))\n",
    "    total=price*quantity\n",
    "    bill=f\"{name} {price} {quantity} {total}\\n\"\n",
    "    s=s+bill\n",
    "    \n",
    "print(s)\n",
    "with open('data.txt','w') as file:\n",
    "    file.write(s)"
   ]
  },
  {
   "cell_type": "code",
   "execution_count": 14,
   "id": "1ce156b7",
   "metadata": {},
   "outputs": [
    {
     "name": "stdout",
     "output_type": "stream",
     "text": [
      "Enter n = 2\n",
      "Enter name = Momo\n",
      "Enter price = 150\n",
      "Enter quantity = 2\n",
      "Enter name = Coke\n",
      "Enter price = 260\n",
      "Enter quantity = 2\n",
      "Momo,150,2,300\n",
      "Coke,260,2,520\n",
      "\n"
     ]
    }
   ],
   "source": [
    "#csv file\n",
    "s = str()\n",
    "n = int(input(\"Enter n = \"))\n",
    "for i in range(n):\n",
    "    name = input(\"Enter name = \")\n",
    "    price = int(input(\"Enter price = \"))\n",
    "    quantity = int(input(\"Enter quantity = \"))\n",
    "    total = price*quantity\n",
    "    bill = f\"{name},{price},{quantity},{total}\\n\"\n",
    "    s = s+bill\n",
    "    \n",
    "print(s)\n",
    "with open('data.csv','w') as file:\n",
    "    file.write('Name,Price,Quantity,Total\\n')\n",
    "    file.write(s)"
   ]
  },
  {
   "cell_type": "code",
   "execution_count": 16,
   "id": "965e17f7",
   "metadata": {},
   "outputs": [
    {
     "data": {
      "text/html": [
       "<div>\n",
       "<style scoped>\n",
       "    .dataframe tbody tr th:only-of-type {\n",
       "        vertical-align: middle;\n",
       "    }\n",
       "\n",
       "    .dataframe tbody tr th {\n",
       "        vertical-align: top;\n",
       "    }\n",
       "\n",
       "    .dataframe thead th {\n",
       "        text-align: right;\n",
       "    }\n",
       "</style>\n",
       "<table border=\"1\" class=\"dataframe\">\n",
       "  <thead>\n",
       "    <tr style=\"text-align: right;\">\n",
       "      <th></th>\n",
       "      <th>Name</th>\n",
       "      <th>Price</th>\n",
       "      <th>Quantity</th>\n",
       "      <th>Total</th>\n",
       "    </tr>\n",
       "  </thead>\n",
       "  <tbody>\n",
       "    <tr>\n",
       "      <th>0</th>\n",
       "      <td>Momo</td>\n",
       "      <td>150</td>\n",
       "      <td>2</td>\n",
       "      <td>300</td>\n",
       "    </tr>\n",
       "    <tr>\n",
       "      <th>1</th>\n",
       "      <td>Coke</td>\n",
       "      <td>260</td>\n",
       "      <td>2</td>\n",
       "      <td>520</td>\n",
       "    </tr>\n",
       "  </tbody>\n",
       "</table>\n",
       "</div>"
      ],
      "text/plain": [
       "   Name  Price  Quantity  Total\n",
       "0  Momo    150         2    300\n",
       "1  Coke    260         2    520"
      ]
     },
     "execution_count": 16,
     "metadata": {},
     "output_type": "execute_result"
    }
   ],
   "source": [
    "#pip install pandas\n",
    "import pandas as pd\n",
    "df = pd.read_csv('data.csv')\n",
    "df"
   ]
  },
  {
   "cell_type": "code",
   "execution_count": 17,
   "id": "e2a3eb38",
   "metadata": {},
   "outputs": [],
   "source": [
    "import csv\n",
    "a = [['Name','Price','Quantity','Total'],\n",
    "     ['Momo',200,3,600],\n",
    "     ['Coke',100,2,200]]\n",
    "with open('bill.csv','w') as file:\n",
    "    x = csv.writer(file)\n",
    "    x.writerows(a)"
   ]
  },
  {
   "cell_type": "code",
   "execution_count": 18,
   "id": "9da73822",
   "metadata": {},
   "outputs": [
    {
     "data": {
      "text/plain": [
       "[{'Name': 'Momo', 'Price': '200', 'Quantity': '3', 'Total': '600'},\n",
       " {'Name': 'Coke', 'Price': '100', 'Quantity': '2', 'Total': '200'}]"
      ]
     },
     "execution_count": 18,
     "metadata": {},
     "output_type": "execute_result"
    }
   ],
   "source": [
    "import csv\n",
    "data = []\n",
    "with open('bill.csv','r') as file:\n",
    "    reader = csv.DictReader(file)\n",
    "    for i in reader:\n",
    "        data.append(i)\n",
    "        \n",
    "data"
   ]
  },
  {
   "cell_type": "code",
   "execution_count": 19,
   "id": "39a2774e",
   "metadata": {},
   "outputs": [
    {
     "name": "stdout",
     "output_type": "stream",
     "text": [
      "['Name,Price,Quantity,Total', 'Momo,150,2,300', 'Coke,260,2,520', '']\n"
     ]
    }
   ],
   "source": [
    "file = open('data.csv','r')\n",
    "x = file.read()\n",
    "y = x.split('\\n')\n",
    "print(y)\n",
    "file.close()"
   ]
  },
  {
   "cell_type": "code",
   "execution_count": 20,
   "id": "ac27223b",
   "metadata": {},
   "outputs": [
    {
     "data": {
      "text/plain": [
       "[['Name', 'Price', 'Quantity', 'Total'],\n",
       " ['Momo', '150', '2', '300'],\n",
       " ['Coke', '260', '2', '520']]"
      ]
     },
     "execution_count": 20,
     "metadata": {},
     "output_type": "execute_result"
    }
   ],
   "source": [
    "all_result=[]\n",
    "for i in y[0:-1]:\n",
    "    all_result.append(i.split(','))\n",
    "    \n",
    "all_result"
   ]
  },
  {
   "cell_type": "code",
   "execution_count": 21,
   "id": "9dbd18c6",
   "metadata": {},
   "outputs": [],
   "source": [
    "import csv\n",
    "a=['Pizza',200,4,800]\n",
    "with open('bill.csv','a')as file:\n",
    "    x=csv.writer(file)\n",
    "    x.writerow(a)"
   ]
  },
  {
   "cell_type": "code",
   "execution_count": null,
   "id": "1edda59e",
   "metadata": {},
   "outputs": [],
   "source": []
  }
 ],
 "metadata": {
  "kernelspec": {
   "display_name": "Python 3 (ipykernel)",
   "language": "python",
   "name": "python3"
  },
  "language_info": {
   "codemirror_mode": {
    "name": "ipython",
    "version": 3
   },
   "file_extension": ".py",
   "mimetype": "text/x-python",
   "name": "python",
   "nbconvert_exporter": "python",
   "pygments_lexer": "ipython3",
   "version": "3.9.12"
  }
 },
 "nbformat": 4,
 "nbformat_minor": 5
}
